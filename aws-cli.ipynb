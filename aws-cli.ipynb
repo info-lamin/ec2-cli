{
 "cells": [
  {
   "cell_type": "code",
   "execution_count": 1,
   "metadata": {},
   "outputs": [
    {
     "name": "stdout",
     "output_type": "stream",
     "text": [
      "Collecting boto3\n",
      "  Downloading boto3-1.35.42-py3-none-any.whl (139 kB)\n",
      "Collecting jmespath<2.0.0,>=0.7.1\n",
      "  Using cached jmespath-1.0.1-py3-none-any.whl (20 kB)\n",
      "Collecting s3transfer<0.11.0,>=0.10.0\n",
      "  Downloading s3transfer-0.10.3-py3-none-any.whl (82 kB)\n",
      "Collecting botocore<1.36.0,>=1.35.42\n",
      "  Downloading botocore-1.35.42-py3-none-any.whl (12.6 MB)\n",
      "Requirement already satisfied: python-dateutil<3.0.0,>=2.1 in f:\\git\\info-panel\\venv\\lib\\site-packages (from botocore<1.36.0,>=1.35.42->boto3) (2.9.0.post0)\n",
      "Collecting urllib3!=2.2.0,<3,>=1.25.4\n",
      "  Using cached urllib3-2.2.3-py3-none-any.whl (126 kB)\n",
      "Requirement already satisfied: six>=1.5 in f:\\git\\info-panel\\venv\\lib\\site-packages (from python-dateutil<3.0.0,>=2.1->botocore<1.36.0,>=1.35.42->boto3) (1.16.0)\n",
      "Installing collected packages: urllib3, jmespath, botocore, s3transfer, boto3\n",
      "Successfully installed boto3-1.35.42 botocore-1.35.42 jmespath-1.0.1 s3transfer-0.10.3 urllib3-2.2.3\n"
     ]
    },
    {
     "name": "stderr",
     "output_type": "stream",
     "text": [
      "WARNING: You are using pip version 21.2.3; however, version 24.2 is available.\n",
      "You should consider upgrading via the 'F:\\Git\\info-panel\\venv\\Scripts\\python.exe -m pip install --upgrade pip' command.\n"
     ]
    }
   ],
   "source": [
    "!pip install boto3"
   ]
  },
  {
   "cell_type": "code",
   "execution_count": 13,
   "metadata": {},
   "outputs": [
    {
     "name": "stdout",
     "output_type": "stream",
     "text": [
      "Collecting pyperclip\n",
      "  Downloading pyperclip-1.9.0.tar.gz (20 kB)\n",
      "Using legacy 'setup.py install' for pyperclip, since package 'wheel' is not installed.\n",
      "Installing collected packages: pyperclip\n",
      "    Running setup.py install for pyperclip: started\n",
      "    Running setup.py install for pyperclip: finished with status 'done'\n",
      "Successfully installed pyperclip-1.9.0\n"
     ]
    },
    {
     "name": "stderr",
     "output_type": "stream",
     "text": [
      "WARNING: You are using pip version 21.2.3; however, version 24.2 is available.\n",
      "You should consider upgrading via the 'F:\\Git\\info-panel\\venv\\Scripts\\python.exe -m pip install --upgrade pip' command.\n"
     ]
    }
   ],
   "source": [
    "!pip install pyperclip"
   ]
  },
  {
   "cell_type": "code",
   "execution_count": 4,
   "metadata": {},
   "outputs": [],
   "source": [
    "import boto3\n",
    "import pyperclip"
   ]
  },
  {
   "cell_type": "code",
   "execution_count": 9,
   "metadata": {},
   "outputs": [],
   "source": [
    "final_instances = list()"
   ]
  },
  {
   "cell_type": "code",
   "execution_count": 15,
   "metadata": {},
   "outputs": [],
   "source": [
    "def retrieve_ec2_instances():\n",
    "    ec2 = boto3.resource('ec2')\n",
    "    instances = ec2.instances.all()\n",
    "\n",
    "    print(f'{\"ID\":<2} {\"Instance ID\":<20} {\"Name\":<20} {\"State\":<15} {\"Instance Type\":<15} {\"Public IPv4\":<20}')\n",
    "    final_instances.clear()\n",
    "    for key, instance in enumerate(instances):\n",
    "        name = ''\n",
    "        for tag in instance.tags or []:\n",
    "            if tag['Key'] == 'Name':\n",
    "                name = tag['Value']\n",
    "        final_instances.append((instance.id, name, instance.public_ip_address or \"\"))\n",
    "        print(f'{key:<2} {instance.id:<20} {name:<20} {instance.state[\"Name\"]:<15} {instance.instance_type:<15} {instance.public_ip_address or \"N/A\":<20}')\n"
   ]
  },
  {
   "cell_type": "code",
   "execution_count": 44,
   "metadata": {},
   "outputs": [
    {
     "name": "stdout",
     "output_type": "stream",
     "text": [
      "ID Instance ID          Name                 State           Instance Type   Public IPv4         \n",
      "0  i-0bf573cc6b5702a0a  Nodejs App Testing   stopped         t2.micro        N/A                 \n",
      "1  i-0218c10256d6d7548  Sona Question Bank Preview stopped         t2.micro        N/A                 \n",
      "2  i-0a536c0985169f16b  Proxy Tunnel         running         t2.micro        34.201.133.110      \n",
      "3  i-0046d8799738f6c74  CLI Testing          terminated      t2.micro        N/A                 \n",
      "4  i-02932c7effc3d8797  CLI Testing          terminated      t2.micro        N/A                 \n",
      "5  i-0ef8b70a295e95b5b  CLI Testing          terminated      t2.micro        N/A                 \n",
      "6  i-0388fe17fe4c1e1ca  Info Panel Testing 5 running         t2.micro        54.175.230.49       \n"
     ]
    }
   ],
   "source": [
    "retrieve_ec2_instances()"
   ]
  },
  {
   "cell_type": "code",
   "execution_count": 13,
   "metadata": {},
   "outputs": [],
   "source": [
    "def create_ec2_instance():\n",
    "    ec2 = boto3.resource('ec2')\n",
    "    \n",
    "    # Gather user inputs\n",
    "    instance_name = input(\"Enter Instance Name: \")\n",
    "    instance_type = input(\"Enter Instance Type (default: t2.micro): \") or 't2.micro'\n",
    "    \n",
    "    # Fetch available key pairs\n",
    "    key_pairs_client = boto3.client('ec2')\n",
    "    key_pairs_response = key_pairs_client.describe_key_pairs()\n",
    "    key_pairs = key_pairs_response['KeyPairs']\n",
    "    \n",
    "    print(\"Key Pairs Available:\")\n",
    "    for i, key_pair in enumerate(key_pairs):\n",
    "        print(f\"{i}. {key_pair['KeyName']}\")\n",
    "        \n",
    "    key_pair_index = int(input(\"Enter your Key Pair (index): \"))\n",
    "    key_name = key_pairs[key_pair_index]['KeyName']  # Get selected key pair name\n",
    "    \n",
    "    # Firewall selection (Security Groups)\n",
    "    security_groups = [\n",
    "        ('Production Website Group', 'sg-090235eb6bc9b2a0e'),\n",
    "        ('Allow All', 'sg-04496392c2efa7f7f'),\n",
    "    ]\n",
    "    \n",
    "    print(\"Select Firewall:\")\n",
    "    for index, (name, sg_id) in enumerate(security_groups):\n",
    "        print(f\"{index}. {name} - {sg_id}\")\n",
    "    \n",
    "    security_group_index = int(input(\"Enter your Firewall selection (index): \"))\n",
    "    security_group_ids = security_groups[security_group_index][1]\n",
    "    storage_size = input(\"Storage Size (default 8GB): \") or 8  # Default to 8GB\n",
    "    no_of_instances = input(\"No Of Instances (default 1): \") or 1  # Default to 1\n",
    "\n",
    "    # Create the EC2 instance\n",
    "    instance = ec2.create_instances(\n",
    "        ImageId='ami-0866a3c8686eaeeba',  # Change this to your desired AMI ID\n",
    "        MinCount=int(no_of_instances),\n",
    "        MaxCount=int(no_of_instances),\n",
    "        InstanceType=instance_type,\n",
    "        KeyName=key_name,\n",
    "        SecurityGroupIds=[security_group_ids],\n",
    "        BlockDeviceMappings=[{\n",
    "            'DeviceName': '/dev/sda1',  # Modify as needed\n",
    "            'Ebs': {\n",
    "                'VolumeSize': int(storage_size),\n",
    "                'DeleteOnTermination': True\n",
    "            }\n",
    "        }]\n",
    "    )\n",
    "\n",
    "    # Tag the instance with the provided instance name\n",
    "    print(f'{\"ID\":<2} {\"Instance ID\":<20} {\"Name\":<20} {\"State\":<15} {\"Instance Type\":<15} {\"Public IPv4\":<20}')\n",
    "    for key, inst in enumerate(instance):\n",
    "        inst.create_tags(Tags=[{'Key': 'Name', 'Value': instance_name}])\n",
    "        inst.reload()\n",
    "        public_ipv4 = inst.public_ip_address if inst.public_ip_address else \"N/A\"\n",
    "        print(f'{key:<2} {inst.id:<20} {instance_name:<20} {inst.state[\"Name\"]:<15} {inst.instance_type:<15} {public_ipv4:<20}')"
   ]
  },
  {
   "cell_type": "code",
   "execution_count": 14,
   "metadata": {},
   "outputs": [
    {
     "name": "stdout",
     "output_type": "stream",
     "text": [
      "Key Pairs Available:\n",
      "0. Akil Sadik\n",
      "1. MSI\n",
      "Select Firewall:\n",
      "0. Allow All - sg-04496392c2efa7f7f\n",
      "1. Production Website Group - sg-090235eb6bc9b2a0e\n",
      "ID Instance ID          Name                 State           Instance Type   Public IPv4         \n",
      "1  i-0ef8b70a295e95b5b  CLI Testing          pending         t2.micro        18.209.36.210       \n",
      "1  i-02932c7effc3d8797  CLI Testing          pending         t2.micro        54.224.202.75       \n"
     ]
    }
   ],
   "source": [
    "create_ec2_instance()"
   ]
  },
  {
   "cell_type": "code",
   "execution_count": 19,
   "metadata": {},
   "outputs": [],
   "source": [
    "def copy_ip():\n",
    "    retrieve_ec2_instances()\n",
    "    choice = int(input(\"Enter instance ID to copy its ip address: \"))\n",
    "    ip = final_instances[choice][2]\n",
    "    pyperclip.copy(ip)\n",
    "    print(f\"\\n Address: {ip} copied to clipboard successfully\")"
   ]
  },
  {
   "cell_type": "code",
   "execution_count": 20,
   "metadata": {},
   "outputs": [
    {
     "name": "stdout",
     "output_type": "stream",
     "text": [
      "ID Instance ID          Name                 State           Instance Type   Public IPv4         \n",
      "0  i-0bf573cc6b5702a0a  Nodejs App Testing   stopped         t2.micro        N/A                 \n",
      "1  i-0218c10256d6d7548  Sona Question Bank Preview stopped         t2.micro        N/A                 \n",
      "2  i-0a536c0985169f16b  Proxy Tunnel         running         t2.micro        34.201.133.110      \n",
      "3  i-0046d8799738f6c74  CLI Testing          terminated      t2.micro        N/A                 \n",
      "4  i-02932c7effc3d8797  CLI Testing          running         t2.micro        54.224.202.75       \n",
      "5  i-0ef8b70a295e95b5b  CLI Testing          running         t2.micro        18.209.36.210       \n",
      "6  i-0388fe17fe4c1e1ca  Info Panel Testing 5 running         t2.micro        54.175.230.49       \n",
      "IPv4 Address: 34.201.133.110 copied to clipboard successfully\n"
     ]
    }
   ],
   "source": [
    "copy_ip()"
   ]
  },
  {
   "cell_type": "code",
   "execution_count": 29,
   "metadata": {},
   "outputs": [],
   "source": [
    "def stop_ec2_instance():\n",
    "    retrieve_ec2_instances()\n",
    "    instances = [final_instances[i][0] for i in map(int, input(\"\\nEnter the instance ID(s) to Stop: \").replace(',', ' ').split())]\n",
    "    ec2 = boto3.client('ec2')\n",
    "    ec2.stop_instances(InstanceIds=instances)\n",
    "    print(f'\\nStopped EC2 Instance(s): {\", \".join(instances)}')"
   ]
  },
  {
   "cell_type": "code",
   "execution_count": 30,
   "metadata": {},
   "outputs": [
    {
     "name": "stdout",
     "output_type": "stream",
     "text": [
      "ID Instance ID          Name                 State           Instance Type   Public IPv4         \n",
      "0  i-0bf573cc6b5702a0a  Nodejs App Testing   stopped         t2.micro        N/A                 \n",
      "1  i-0218c10256d6d7548  Sona Question Bank Preview stopped         t2.micro        N/A                 \n",
      "2  i-0a536c0985169f16b  Proxy Tunnel         running         t2.micro        34.201.133.110      \n",
      "3  i-0046d8799738f6c74  CLI Testing          terminated      t2.micro        N/A                 \n",
      "4  i-02932c7effc3d8797  CLI Testing          running         t2.micro        54.224.202.75       \n",
      "5  i-0ef8b70a295e95b5b  CLI Testing          running         t2.micro        18.209.36.210       \n",
      "6  i-0388fe17fe4c1e1ca  Info Panel Testing 5 running         t2.micro        54.175.230.49       \n",
      "Stopped EC2 Instance(s): i-02932c7effc3d8797, i-0ef8b70a295e95b5b\n"
     ]
    }
   ],
   "source": [
    "stop_ec2_instance()"
   ]
  },
  {
   "cell_type": "code",
   "execution_count": 33,
   "metadata": {},
   "outputs": [],
   "source": [
    "def start_ec2_instance():\n",
    "    retrieve_ec2_instances()\n",
    "    instances = [final_instances[i][0] for i in map(int, input(\"\\nEnter the instance ID(s) to Start: \").replace(',', ' ').split())]\n",
    "    ec2 = boto3.client('ec2')\n",
    "    ec2.start_instances(InstanceIds=instances)\n",
    "    print(f'\\nStarted EC2 Instance(s): {\", \".join(instances)}')"
   ]
  },
  {
   "cell_type": "code",
   "execution_count": 34,
   "metadata": {},
   "outputs": [
    {
     "name": "stdout",
     "output_type": "stream",
     "text": [
      "ID Instance ID          Name                 State           Instance Type   Public IPv4         \n",
      "0  i-0bf573cc6b5702a0a  Nodejs App Testing   stopped         t2.micro        N/A                 \n",
      "1  i-0218c10256d6d7548  Sona Question Bank Preview stopped         t2.micro        N/A                 \n",
      "2  i-0a536c0985169f16b  Proxy Tunnel         running         t2.micro        34.201.133.110      \n",
      "3  i-0046d8799738f6c74  CLI Testing          terminated      t2.micro        N/A                 \n",
      "4  i-02932c7effc3d8797  CLI Testing          stopped         t2.micro        N/A                 \n",
      "5  i-0ef8b70a295e95b5b  CLI Testing          stopped         t2.micro        N/A                 \n",
      "6  i-0388fe17fe4c1e1ca  Info Panel Testing 5 running         t2.micro        54.175.230.49       \n",
      "\n",
      "Started EC2 Instance(s): i-02932c7effc3d8797, i-0ef8b70a295e95b5b\n"
     ]
    }
   ],
   "source": [
    "start_ec2_instance()"
   ]
  },
  {
   "cell_type": "code",
   "execution_count": 36,
   "metadata": {},
   "outputs": [],
   "source": [
    "def delete_ec2_instance():\n",
    "    retrieve_ec2_instances()\n",
    "    instances = [final_instances[i][0] for i in map(int, input(\"\\nEnter the instance ID(s) to Delete: \").replace(',', ' ').split())]\n",
    "    ec2 = boto3.client('ec2')\n",
    "    ec2.terminate_instances(InstanceIds=instances)\n",
    "    print(f'\\nDeleted EC2 Instance(s): {\", \".join(instances)}')"
   ]
  },
  {
   "cell_type": "code",
   "execution_count": 38,
   "metadata": {},
   "outputs": [
    {
     "name": "stdout",
     "output_type": "stream",
     "text": [
      "ID Instance ID          Name                 State           Instance Type   Public IPv4         \n",
      "0  i-0bf573cc6b5702a0a  Nodejs App Testing   stopped         t2.micro        N/A                 \n",
      "1  i-0218c10256d6d7548  Sona Question Bank Preview stopped         t2.micro        N/A                 \n",
      "2  i-0a536c0985169f16b  Proxy Tunnel         running         t2.micro        34.201.133.110      \n",
      "3  i-0046d8799738f6c74  CLI Testing          terminated      t2.micro        N/A                 \n",
      "4  i-02932c7effc3d8797  CLI Testing          running         t2.micro        98.82.36.197        \n",
      "5  i-0ef8b70a295e95b5b  CLI Testing          running         t2.micro        18.209.163.110      \n",
      "6  i-0388fe17fe4c1e1ca  Info Panel Testing 5 running         t2.micro        54.175.230.49       \n",
      "\n",
      "Deleted EC2 Instance(s): i-02932c7effc3d8797, i-0ef8b70a295e95b5b\n"
     ]
    }
   ],
   "source": [
    "delete_ec2_instance()"
   ]
  },
  {
   "cell_type": "code",
   "execution_count": null,
   "metadata": {},
   "outputs": [],
   "source": []
  }
 ],
 "metadata": {
  "kernelspec": {
   "display_name": "venv",
   "language": "python",
   "name": "python3"
  },
  "language_info": {
   "codemirror_mode": {
    "name": "ipython",
    "version": 3
   },
   "file_extension": ".py",
   "mimetype": "text/x-python",
   "name": "python",
   "nbconvert_exporter": "python",
   "pygments_lexer": "ipython3",
   "version": "3.10.0"
  }
 },
 "nbformat": 4,
 "nbformat_minor": 2
}
